{
 "cells": [
  {
   "cell_type": "code",
   "execution_count": 2,
   "id": "02c9c8c1",
   "metadata": {},
   "outputs": [
    {
     "name": "stderr",
     "output_type": "stream",
     "text": [
      "<frozen importlib._bootstrap>:219: RuntimeWarning: scipy._lib.messagestream.MessageStream size changed, may indicate binary incompatibility. Expected 56 from C header, got 64 from PyObject\n"
     ]
    }
   ],
   "source": [
    "import pandas as pd\n",
    "import numpy as np\n",
    "import matplotlib.pyplot as plt\n",
    "import seaborn as sns"
   ]
  },
  {
   "cell_type": "code",
   "execution_count": 3,
   "id": "3e2c3cf5",
   "metadata": {},
   "outputs": [],
   "source": [
    "dataset = pd.read_csv(\"C:\\\\Users\\\\USER\\\\Desktop\\\\STARTUP_TECH_INTERN\\\\datafile_train.csv\")\n",
    "y = pd.read_csv(\"C:\\\\Users\\\\USER\\\\Desktop\\\\STARTUP_TECH_INTERN\\\\test.csv\")"
   ]
  },
  {
   "cell_type": "code",
   "execution_count": 4,
   "id": "faed6e59",
   "metadata": {},
   "outputs": [
    {
     "data": {
      "text/html": [
       "<div>\n",
       "<style scoped>\n",
       "    .dataframe tbody tr th:only-of-type {\n",
       "        vertical-align: middle;\n",
       "    }\n",
       "\n",
       "    .dataframe tbody tr th {\n",
       "        vertical-align: top;\n",
       "    }\n",
       "\n",
       "    .dataframe thead th {\n",
       "        text-align: right;\n",
       "    }\n",
       "</style>\n",
       "<table border=\"1\" class=\"dataframe\">\n",
       "  <thead>\n",
       "    <tr style=\"text-align: right;\">\n",
       "      <th></th>\n",
       "      <th>S.No.</th>\n",
       "      <th>College</th>\n",
       "      <th>Role</th>\n",
       "      <th>City type</th>\n",
       "      <th>Previous CTC</th>\n",
       "      <th>Previous job changes</th>\n",
       "      <th>Graduation marks</th>\n",
       "      <th>Exp (Months)</th>\n",
       "      <th>CTC</th>\n",
       "    </tr>\n",
       "  </thead>\n",
       "  <tbody>\n",
       "    <tr>\n",
       "      <th>0</th>\n",
       "      <td>1.0</td>\n",
       "      <td>Tier 1</td>\n",
       "      <td>Manager</td>\n",
       "      <td>Non-Metro</td>\n",
       "      <td>55523.0</td>\n",
       "      <td>3.0</td>\n",
       "      <td>66.0</td>\n",
       "      <td>19.0</td>\n",
       "      <td>71406.58</td>\n",
       "    </tr>\n",
       "    <tr>\n",
       "      <th>1</th>\n",
       "      <td>2.0</td>\n",
       "      <td>Tier 2</td>\n",
       "      <td>Executive</td>\n",
       "      <td>Metro</td>\n",
       "      <td>57081.0</td>\n",
       "      <td>1.0</td>\n",
       "      <td>84.0</td>\n",
       "      <td>18.0</td>\n",
       "      <td>68005.87</td>\n",
       "    </tr>\n",
       "    <tr>\n",
       "      <th>2</th>\n",
       "      <td>3.0</td>\n",
       "      <td>Tier 2</td>\n",
       "      <td>Executive</td>\n",
       "      <td>Metro</td>\n",
       "      <td>60347.0</td>\n",
       "      <td>2.0</td>\n",
       "      <td>52.0</td>\n",
       "      <td>28.0</td>\n",
       "      <td>76764.02</td>\n",
       "    </tr>\n",
       "    <tr>\n",
       "      <th>3</th>\n",
       "      <td>4.0</td>\n",
       "      <td>Tier 3</td>\n",
       "      <td>Executive</td>\n",
       "      <td>Metro</td>\n",
       "      <td>49010.0</td>\n",
       "      <td>2.0</td>\n",
       "      <td>81.0</td>\n",
       "      <td>33.0</td>\n",
       "      <td>82092.39</td>\n",
       "    </tr>\n",
       "    <tr>\n",
       "      <th>4</th>\n",
       "      <td>5.0</td>\n",
       "      <td>Tier 3</td>\n",
       "      <td>Executive</td>\n",
       "      <td>Metro</td>\n",
       "      <td>57879.0</td>\n",
       "      <td>4.0</td>\n",
       "      <td>74.0</td>\n",
       "      <td>32.0</td>\n",
       "      <td>73878.10</td>\n",
       "    </tr>\n",
       "  </tbody>\n",
       "</table>\n",
       "</div>"
      ],
      "text/plain": [
       "   S.No. College       Role  City type  Previous CTC  Previous job changes  \\\n",
       "0    1.0  Tier 1    Manager  Non-Metro       55523.0                   3.0   \n",
       "1    2.0  Tier 2  Executive      Metro       57081.0                   1.0   \n",
       "2    3.0  Tier 2  Executive      Metro       60347.0                   2.0   \n",
       "3    4.0  Tier 3  Executive      Metro       49010.0                   2.0   \n",
       "4    5.0  Tier 3  Executive      Metro       57879.0                   4.0   \n",
       "\n",
       "   Graduation marks  Exp (Months)       CTC  \n",
       "0              66.0          19.0  71406.58  \n",
       "1              84.0          18.0  68005.87  \n",
       "2              52.0          28.0  76764.02  \n",
       "3              81.0          33.0  82092.39  \n",
       "4              74.0          32.0  73878.10  "
      ]
     },
     "execution_count": 4,
     "metadata": {},
     "output_type": "execute_result"
    }
   ],
   "source": [
    "dataset.head()"
   ]
  },
  {
   "cell_type": "code",
   "execution_count": 5,
   "id": "18ddc3e5",
   "metadata": {},
   "outputs": [
    {
     "data": {
      "text/plain": [
       "S.No.                   23\n",
       "College                 23\n",
       "Role                    23\n",
       "City type               23\n",
       "Previous CTC            23\n",
       "Previous job changes    23\n",
       "Graduation marks        23\n",
       "Exp (Months)            23\n",
       "CTC                     23\n",
       "dtype: int64"
      ]
     },
     "execution_count": 5,
     "metadata": {},
     "output_type": "execute_result"
    }
   ],
   "source": [
    "dataset.isnull().sum()\n"
   ]
  },
  {
   "cell_type": "code",
   "execution_count": 6,
   "id": "96b53f25",
   "metadata": {},
   "outputs": [],
   "source": [
    "#dataset_ = dataset.replace('[^\\d.'']', '', regex=True).astype(float)"
   ]
  },
  {
   "cell_type": "code",
   "execution_count": 7,
   "id": "1c9b2dff",
   "metadata": {},
   "outputs": [],
   "source": [
    "dataset.dropna(inplace=True)\n"
   ]
  },
  {
   "cell_type": "code",
   "execution_count": 8,
   "id": "96903700",
   "metadata": {},
   "outputs": [
    {
     "data": {
      "text/plain": [
       "S.No.                   False\n",
       "College                 False\n",
       "Role                    False\n",
       "City type               False\n",
       "Previous CTC            False\n",
       "Previous job changes    False\n",
       "Graduation marks        False\n",
       "Exp (Months)            False\n",
       "CTC                     False\n",
       "dtype: bool"
      ]
     },
     "execution_count": 8,
     "metadata": {},
     "output_type": "execute_result"
    }
   ],
   "source": [
    "dataset.isna().any()\n"
   ]
  },
  {
   "cell_type": "code",
   "execution_count": 9,
   "id": "d804972a",
   "metadata": {},
   "outputs": [
    {
     "name": "stdout",
     "output_type": "stream",
     "text": [
      "<class 'pandas.core.frame.DataFrame'>\n",
      "Int64Index: 1338 entries, 0 to 1337\n",
      "Data columns (total 9 columns):\n",
      " #   Column                Non-Null Count  Dtype  \n",
      "---  ------                --------------  -----  \n",
      " 0   S.No.                 1338 non-null   float64\n",
      " 1   College               1338 non-null   object \n",
      " 2   Role                  1338 non-null   object \n",
      " 3   City type             1338 non-null   object \n",
      " 4   Previous CTC          1338 non-null   float64\n",
      " 5   Previous job changes  1338 non-null   float64\n",
      " 6   Graduation marks      1338 non-null   float64\n",
      " 7   Exp (Months)          1338 non-null   float64\n",
      " 8   CTC                   1338 non-null   float64\n",
      "dtypes: float64(6), object(3)\n",
      "memory usage: 104.5+ KB\n"
     ]
    }
   ],
   "source": [
    "dataset.info()"
   ]
  },
  {
   "cell_type": "code",
   "execution_count": 10,
   "id": "6aa16481",
   "metadata": {},
   "outputs": [
    {
     "data": {
      "text/html": [
       "<div>\n",
       "<style scoped>\n",
       "    .dataframe tbody tr th:only-of-type {\n",
       "        vertical-align: middle;\n",
       "    }\n",
       "\n",
       "    .dataframe tbody tr th {\n",
       "        vertical-align: top;\n",
       "    }\n",
       "\n",
       "    .dataframe thead th {\n",
       "        text-align: right;\n",
       "    }\n",
       "</style>\n",
       "<table border=\"1\" class=\"dataframe\">\n",
       "  <thead>\n",
       "    <tr style=\"text-align: right;\">\n",
       "      <th></th>\n",
       "      <th>S.No.</th>\n",
       "      <th>Previous CTC</th>\n",
       "      <th>Previous job changes</th>\n",
       "      <th>Graduation marks</th>\n",
       "      <th>Exp (Months)</th>\n",
       "      <th>CTC</th>\n",
       "    </tr>\n",
       "  </thead>\n",
       "  <tbody>\n",
       "    <tr>\n",
       "      <th>count</th>\n",
       "      <td>1338.000000</td>\n",
       "      <td>1338.000000</td>\n",
       "      <td>1338.000000</td>\n",
       "      <td>1338.000000</td>\n",
       "      <td>1338.000000</td>\n",
       "      <td>1338.000000</td>\n",
       "    </tr>\n",
       "    <tr>\n",
       "      <th>mean</th>\n",
       "      <td>669.500000</td>\n",
       "      <td>55581.762332</td>\n",
       "      <td>2.525411</td>\n",
       "      <td>59.890882</td>\n",
       "      <td>39.207025</td>\n",
       "      <td>75459.339036</td>\n",
       "    </tr>\n",
       "    <tr>\n",
       "      <th>std</th>\n",
       "      <td>386.391641</td>\n",
       "      <td>6685.600553</td>\n",
       "      <td>1.123502</td>\n",
       "      <td>14.894696</td>\n",
       "      <td>14.049960</td>\n",
       "      <td>12551.280147</td>\n",
       "    </tr>\n",
       "    <tr>\n",
       "      <th>min</th>\n",
       "      <td>1.000000</td>\n",
       "      <td>36990.000000</td>\n",
       "      <td>1.000000</td>\n",
       "      <td>35.000000</td>\n",
       "      <td>18.000000</td>\n",
       "      <td>53020.320000</td>\n",
       "    </tr>\n",
       "    <tr>\n",
       "      <th>25%</th>\n",
       "      <td>335.250000</td>\n",
       "      <td>50547.000000</td>\n",
       "      <td>2.000000</td>\n",
       "      <td>47.000000</td>\n",
       "      <td>27.000000</td>\n",
       "      <td>66905.067500</td>\n",
       "    </tr>\n",
       "    <tr>\n",
       "      <th>50%</th>\n",
       "      <td>669.500000</td>\n",
       "      <td>55293.500000</td>\n",
       "      <td>3.000000</td>\n",
       "      <td>60.000000</td>\n",
       "      <td>39.000000</td>\n",
       "      <td>73112.640000</td>\n",
       "    </tr>\n",
       "    <tr>\n",
       "      <th>75%</th>\n",
       "      <td>1003.750000</td>\n",
       "      <td>60150.500000</td>\n",
       "      <td>4.000000</td>\n",
       "      <td>73.000000</td>\n",
       "      <td>51.000000</td>\n",
       "      <td>80747.175000</td>\n",
       "    </tr>\n",
       "    <tr>\n",
       "      <th>max</th>\n",
       "      <td>1338.000000</td>\n",
       "      <td>77911.000000</td>\n",
       "      <td>4.000000</td>\n",
       "      <td>85.000000</td>\n",
       "      <td>64.000000</td>\n",
       "      <td>123416.990000</td>\n",
       "    </tr>\n",
       "  </tbody>\n",
       "</table>\n",
       "</div>"
      ],
      "text/plain": [
       "             S.No.  Previous CTC  Previous job changes  Graduation marks  \\\n",
       "count  1338.000000   1338.000000           1338.000000       1338.000000   \n",
       "mean    669.500000  55581.762332              2.525411         59.890882   \n",
       "std     386.391641   6685.600553              1.123502         14.894696   \n",
       "min       1.000000  36990.000000              1.000000         35.000000   \n",
       "25%     335.250000  50547.000000              2.000000         47.000000   \n",
       "50%     669.500000  55293.500000              3.000000         60.000000   \n",
       "75%    1003.750000  60150.500000              4.000000         73.000000   \n",
       "max    1338.000000  77911.000000              4.000000         85.000000   \n",
       "\n",
       "       Exp (Months)            CTC  \n",
       "count   1338.000000    1338.000000  \n",
       "mean      39.207025   75459.339036  \n",
       "std       14.049960   12551.280147  \n",
       "min       18.000000   53020.320000  \n",
       "25%       27.000000   66905.067500  \n",
       "50%       39.000000   73112.640000  \n",
       "75%       51.000000   80747.175000  \n",
       "max       64.000000  123416.990000  "
      ]
     },
     "execution_count": 10,
     "metadata": {},
     "output_type": "execute_result"
    }
   ],
   "source": [
    "dataset.describe()"
   ]
  },
  {
   "cell_type": "code",
   "execution_count": null,
   "id": "6f2a8df9",
   "metadata": {},
   "outputs": [],
   "source": []
  },
  {
   "cell_type": "code",
   "execution_count": 11,
   "id": "ce64d94d",
   "metadata": {},
   "outputs": [],
   "source": [
    "#my_float = float(my_str.replace(',', ' ').replace('$',''))\n",
    "#my_float = float(dataset.replace(',', ''))\n",
    "#import locale\n",
    "#locale.setlocale(locale.LC_ALL, 'en_US.UTF-8')\n",
    "#locale_num = locale.atof(dataset)\n",
    "#print(locale_num, type(locale_num))"
   ]
  },
  {
   "cell_type": "code",
   "execution_count": 12,
   "id": "ab711715",
   "metadata": {},
   "outputs": [],
   "source": [
    "#dataset['Previous CTC'].plot(figsize=(16,6))"
   ]
  },
  {
   "cell_type": "code",
   "execution_count": 13,
   "id": "5846bd75",
   "metadata": {},
   "outputs": [],
   "source": [
    "X = dataset[['Previous CTC','Previous job changes','Graduation marks','Exp (Months)']]\n",
    "y = dataset['CTC']"
   ]
  },
  {
   "cell_type": "code",
   "execution_count": 14,
   "id": "fa154c9d",
   "metadata": {},
   "outputs": [],
   "source": [
    "from sklearn.model_selection import train_test_split\n",
    "X_train, X_test, y_train, y_test = train_test_split(X, y, random_state = 0)"
   ]
  },
  {
   "cell_type": "code",
   "execution_count": 15,
   "id": "ae86dd0b",
   "metadata": {},
   "outputs": [
    {
     "data": {
      "text/plain": [
       "(1003, 4)"
      ]
     },
     "execution_count": 15,
     "metadata": {},
     "output_type": "execute_result"
    }
   ],
   "source": [
    "X_train.shape"
   ]
  },
  {
   "cell_type": "code",
   "execution_count": null,
   "id": "57f98d51",
   "metadata": {},
   "outputs": [],
   "source": []
  },
  {
   "cell_type": "code",
   "execution_count": 16,
   "id": "1f64eaa2",
   "metadata": {},
   "outputs": [],
   "source": [
    "from sklearn.linear_model import LinearRegression\n",
    "from sklearn.metrics import confusion_matrix, accuracy_score\n",
    "regressor = LinearRegression()"
   ]
  },
  {
   "cell_type": "code",
   "execution_count": 17,
   "id": "c5eb6066",
   "metadata": {},
   "outputs": [
    {
     "data": {
      "text/plain": [
       "LinearRegression()"
      ]
     },
     "execution_count": 17,
     "metadata": {},
     "output_type": "execute_result"
    }
   ],
   "source": [
    "regressor.fit(X_train, y_train)\n",
    "#v = '56,405.00'\n",
    "#my_float = float(my_str.replace(',', ' ').replace('$',''))\n",
    "#my_float = float(v.replace(',', ''))"
   ]
  },
  {
   "cell_type": "code",
   "execution_count": 18,
   "id": "2bc2f99a",
   "metadata": {},
   "outputs": [
    {
     "name": "stdout",
     "output_type": "stream",
     "text": [
      "[   0.43458978 -139.59399431   -6.02952645  218.47704542]\n"
     ]
    }
   ],
   "source": [
    "print(regressor.coef_)"
   ]
  },
  {
   "cell_type": "code",
   "execution_count": 19,
   "id": "5e9f193f",
   "metadata": {},
   "outputs": [
    {
     "name": "stdout",
     "output_type": "stream",
     "text": [
      "43383.192695977\n"
     ]
    }
   ],
   "source": [
    "print(regressor.intercept_)"
   ]
  },
  {
   "cell_type": "code",
   "execution_count": 20,
   "id": "b40ff579",
   "metadata": {},
   "outputs": [],
   "source": [
    "predicted = regressor.predict(X_test)"
   ]
  },
  {
   "cell_type": "code",
   "execution_count": 21,
   "id": "d4c04432",
   "metadata": {},
   "outputs": [
    {
     "name": "stdout",
     "output_type": "stream",
     "text": [
      "      Previous CTC  Previous job changes  Graduation marks  Exp (Months)\n",
      "578        55453.0                   3.0              67.0          52.0\n",
      "610        56043.0                   1.0              44.0          47.0\n",
      "569        64558.0                   3.0              47.0          48.0\n",
      "1034       59128.0                   1.0              56.0          61.0\n",
      "198        44451.0                   1.0              65.0          51.0\n",
      "...            ...                   ...               ...           ...\n",
      "574        64225.0                   4.0              43.0          57.0\n",
      "1174       55074.0                   3.0              79.0          29.0\n",
      "1327       57311.0                   3.0              54.0          51.0\n",
      "817        58422.0                   2.0              54.0          23.0\n",
      "1337       51820.0                   1.0              47.0          61.0\n",
      "\n",
      "[335 rows x 4 columns]\n"
     ]
    }
   ],
   "source": [
    "print(X_test)"
   ]
  },
  {
   "cell_type": "code",
   "execution_count": 22,
   "id": "4a5a805b",
   "metadata": {},
   "outputs": [
    {
     "data": {
      "text/plain": [
       "(335,)"
      ]
     },
     "execution_count": 22,
     "metadata": {},
     "output_type": "execute_result"
    }
   ],
   "source": [
    "predicted.shape"
   ]
  },
  {
   "cell_type": "code",
   "execution_count": 23,
   "id": "37abbb2e",
   "metadata": {},
   "outputs": [],
   "source": [
    "dframe =pd.DataFrame(y_test, predicted)"
   ]
  },
  {
   "cell_type": "code",
   "execution_count": 24,
   "id": "f73ab687",
   "metadata": {},
   "outputs": [],
   "source": [
    "dfr =pd.DataFrame({'Actual': y_test, 'CTC':predicted})"
   ]
  },
  {
   "cell_type": "code",
   "execution_count": 25,
   "id": "e79d6ba3",
   "metadata": {},
   "outputs": [
    {
     "name": "stdout",
     "output_type": "stream",
     "text": [
      "        Actual           CTC\n",
      "578   71105.71  78020.545683\n",
      "610   62426.39  77602.435521\n",
      "569   99734.64  81224.167946\n",
      "1034  85083.58  81929.469300\n",
      "198   59721.74  73311.958957\n",
      "...        ...           ...\n",
      "574   80470.64  82930.267070\n",
      "1174  67749.39  72758.509795\n",
      "1327  66931.93  78687.920286\n",
      "817   75585.98  73192.986250\n",
      "1337  83346.06  78807.752951\n",
      "\n",
      "[335 rows x 2 columns]\n"
     ]
    }
   ],
   "source": [
    "print(dfr)"
   ]
  },
  {
   "cell_type": "code",
   "execution_count": 26,
   "id": "4370199c",
   "metadata": {},
   "outputs": [
    {
     "data": {
      "text/html": [
       "<div>\n",
       "<style scoped>\n",
       "    .dataframe tbody tr th:only-of-type {\n",
       "        vertical-align: middle;\n",
       "    }\n",
       "\n",
       "    .dataframe tbody tr th {\n",
       "        vertical-align: top;\n",
       "    }\n",
       "\n",
       "    .dataframe thead th {\n",
       "        text-align: right;\n",
       "    }\n",
       "</style>\n",
       "<table border=\"1\" class=\"dataframe\">\n",
       "  <thead>\n",
       "    <tr style=\"text-align: right;\">\n",
       "      <th></th>\n",
       "      <th>Actual</th>\n",
       "      <th>CTC</th>\n",
       "    </tr>\n",
       "  </thead>\n",
       "  <tbody>\n",
       "    <tr>\n",
       "      <th>578</th>\n",
       "      <td>71105.71</td>\n",
       "      <td>78020.545683</td>\n",
       "    </tr>\n",
       "    <tr>\n",
       "      <th>610</th>\n",
       "      <td>62426.39</td>\n",
       "      <td>77602.435521</td>\n",
       "    </tr>\n",
       "    <tr>\n",
       "      <th>569</th>\n",
       "      <td>99734.64</td>\n",
       "      <td>81224.167946</td>\n",
       "    </tr>\n",
       "    <tr>\n",
       "      <th>1034</th>\n",
       "      <td>85083.58</td>\n",
       "      <td>81929.469300</td>\n",
       "    </tr>\n",
       "    <tr>\n",
       "      <th>198</th>\n",
       "      <td>59721.74</td>\n",
       "      <td>73311.958957</td>\n",
       "    </tr>\n",
       "    <tr>\n",
       "      <th>981</th>\n",
       "      <td>69525.33</td>\n",
       "      <td>71683.181631</td>\n",
       "    </tr>\n",
       "    <tr>\n",
       "      <th>31</th>\n",
       "      <td>69764.49</td>\n",
       "      <td>68336.734936</td>\n",
       "    </tr>\n",
       "    <tr>\n",
       "      <th>1256</th>\n",
       "      <td>67273.98</td>\n",
       "      <td>79612.991222</td>\n",
       "    </tr>\n",
       "    <tr>\n",
       "      <th>1219</th>\n",
       "      <td>63921.31</td>\n",
       "      <td>75303.188359</td>\n",
       "    </tr>\n",
       "    <tr>\n",
       "      <th>1320</th>\n",
       "      <td>61396.48</td>\n",
       "      <td>75716.162252</td>\n",
       "    </tr>\n",
       "    <tr>\n",
       "      <th>613</th>\n",
       "      <td>62314.99</td>\n",
       "      <td>67767.321101</td>\n",
       "    </tr>\n",
       "    <tr>\n",
       "      <th>1107</th>\n",
       "      <td>63263.77</td>\n",
       "      <td>75432.365691</td>\n",
       "    </tr>\n",
       "    <tr>\n",
       "      <th>1263</th>\n",
       "      <td>71532.81</td>\n",
       "      <td>73876.124260</td>\n",
       "    </tr>\n",
       "    <tr>\n",
       "      <th>406</th>\n",
       "      <td>65377.42</td>\n",
       "      <td>69438.510665</td>\n",
       "    </tr>\n",
       "    <tr>\n",
       "      <th>795</th>\n",
       "      <td>78089.72</td>\n",
       "      <td>70313.607160</td>\n",
       "    </tr>\n",
       "    <tr>\n",
       "      <th>970</th>\n",
       "      <td>67402.38</td>\n",
       "      <td>75127.550813</td>\n",
       "    </tr>\n",
       "    <tr>\n",
       "      <th>824</th>\n",
       "      <td>76284.19</td>\n",
       "      <td>77300.098760</td>\n",
       "    </tr>\n",
       "    <tr>\n",
       "      <th>141</th>\n",
       "      <td>74544.57</td>\n",
       "      <td>72927.457896</td>\n",
       "    </tr>\n",
       "    <tr>\n",
       "      <th>1173</th>\n",
       "      <td>72441.01</td>\n",
       "      <td>74434.970286</td>\n",
       "    </tr>\n",
       "    <tr>\n",
       "      <th>1042</th>\n",
       "      <td>86581.05</td>\n",
       "      <td>72448.667600</td>\n",
       "    </tr>\n",
       "    <tr>\n",
       "      <th>966</th>\n",
       "      <td>80430.97</td>\n",
       "      <td>73858.008731</td>\n",
       "    </tr>\n",
       "    <tr>\n",
       "      <th>467</th>\n",
       "      <td>67700.67</td>\n",
       "      <td>79905.219009</td>\n",
       "    </tr>\n",
       "    <tr>\n",
       "      <th>1098</th>\n",
       "      <td>76674.92</td>\n",
       "      <td>79319.837615</td>\n",
       "    </tr>\n",
       "    <tr>\n",
       "      <th>757</th>\n",
       "      <td>74594.62</td>\n",
       "      <td>76853.031155</td>\n",
       "    </tr>\n",
       "    <tr>\n",
       "      <th>1097</th>\n",
       "      <td>62356.93</td>\n",
       "      <td>71536.880454</td>\n",
       "    </tr>\n",
       "  </tbody>\n",
       "</table>\n",
       "</div>"
      ],
      "text/plain": [
       "        Actual           CTC\n",
       "578   71105.71  78020.545683\n",
       "610   62426.39  77602.435521\n",
       "569   99734.64  81224.167946\n",
       "1034  85083.58  81929.469300\n",
       "198   59721.74  73311.958957\n",
       "981   69525.33  71683.181631\n",
       "31    69764.49  68336.734936\n",
       "1256  67273.98  79612.991222\n",
       "1219  63921.31  75303.188359\n",
       "1320  61396.48  75716.162252\n",
       "613   62314.99  67767.321101\n",
       "1107  63263.77  75432.365691\n",
       "1263  71532.81  73876.124260\n",
       "406   65377.42  69438.510665\n",
       "795   78089.72  70313.607160\n",
       "970   67402.38  75127.550813\n",
       "824   76284.19  77300.098760\n",
       "141   74544.57  72927.457896\n",
       "1173  72441.01  74434.970286\n",
       "1042  86581.05  72448.667600\n",
       "966   80430.97  73858.008731\n",
       "467   67700.67  79905.219009\n",
       "1098  76674.92  79319.837615\n",
       "757   74594.62  76853.031155\n",
       "1097  62356.93  71536.880454"
      ]
     },
     "execution_count": 26,
     "metadata": {},
     "output_type": "execute_result"
    }
   ],
   "source": [
    "dfr.head(25)"
   ]
  },
  {
   "cell_type": "code",
   "execution_count": 27,
   "id": "ad5a5c9d",
   "metadata": {},
   "outputs": [],
   "source": [
    "from sklearn.metrics import confusion_matrix, accuracy_score"
   ]
  },
  {
   "cell_type": "code",
   "execution_count": 28,
   "id": "37dd8fd7",
   "metadata": {},
   "outputs": [
    {
     "data": {
      "text/plain": [
       "0.18217676355976986"
      ]
     },
     "execution_count": 28,
     "metadata": {},
     "output_type": "execute_result"
    }
   ],
   "source": [
    "regressor.score(X_test,y_test)"
   ]
  },
  {
   "cell_type": "code",
   "execution_count": 29,
   "id": "bc83c77b",
   "metadata": {},
   "outputs": [],
   "source": [
    "import math\n",
    "import sklearn.metrics as metrics"
   ]
  },
  {
   "cell_type": "code",
   "execution_count": 30,
   "id": "acb74ad0",
   "metadata": {},
   "outputs": [
    {
     "name": "stdout",
     "output_type": "stream",
     "text": [
      "Mean Absolute Error: 8933.101487074953\n"
     ]
    }
   ],
   "source": [
    "print('Mean Absolute Error:', metrics.mean_absolute_error(y_test,predicted))"
   ]
  },
  {
   "cell_type": "code",
   "execution_count": 31,
   "id": "639e2fbc",
   "metadata": {},
   "outputs": [
    {
     "name": "stdout",
     "output_type": "stream",
     "text": [
      "Mean Squared Error: 140155895.04732913\n"
     ]
    }
   ],
   "source": [
    "print('Mean Squared Error:', metrics.mean_squared_error(y_test,predicted))"
   ]
  },
  {
   "cell_type": "code",
   "execution_count": 32,
   "id": "b3e9195f",
   "metadata": {},
   "outputs": [
    {
     "name": "stdout",
     "output_type": "stream",
     "text": [
      "Root Mean Squared Error: 11838.745501417332\n"
     ]
    }
   ],
   "source": [
    "print('Root Mean Squared Error:', math.sqrt(metrics.mean_squared_error(y_test,predicted)))"
   ]
  },
  {
   "cell_type": "code",
   "execution_count": 33,
   "id": "bb9736bf",
   "metadata": {},
   "outputs": [],
   "source": [
    "graph = dfr.head(20)"
   ]
  },
  {
   "cell_type": "code",
   "execution_count": 34,
   "id": "9103afcb",
   "metadata": {},
   "outputs": [
    {
     "data": {
      "text/plain": [
       "<AxesSubplot:>"
      ]
     },
     "execution_count": 34,
     "metadata": {},
     "output_type": "execute_result"
    },
    {
     "data": {
      "image/png": "[encoded data removed]",
      "text/plain": [
       "<Figure size 432x288 with 1 Axes>"
      ]
     },
     "metadata": {
      "needs_background": "light"
     },
     "output_type": "display_data"
    }
   ],
   "source": [
    "graph.plot(kind='bar')"
   ]
  },
  {
   "cell_type": "code",
   "execution_count": null,
   "id": "1fa9ed7b",
   "metadata": {},
   "outputs": [],
   "source": []
  },
  {
   "cell_type": "code",
   "execution_count": null,
   "id": "ac8384c6",
   "metadata": {},
   "outputs": [],
   "source": []
  },
  {
   "cell_type": "code",
   "execution_count": null,
   "id": "705afbe5",
   "metadata": {},
   "outputs": [],
   "source": []
  },
  {
   "cell_type": "code",
   "execution_count": null,
   "id": "ed45f55f",
   "metadata": {},
   "outputs": [],
   "source": []
  },
  {
   "cell_type": "code",
   "execution_count": null,
   "id": "f94cd12e",
   "metadata": {},
   "outputs": [],
   "source": []
  },
  {
   "cell_type": "code",
   "execution_count": null,
   "id": "93427053",
   "metadata": {},
   "outputs": [],
   "source": []
  },
  {
   "cell_type": "code",
   "execution_count": null,
   "id": "82572413",
   "metadata": {},
   "outputs": [],
   "source": []
  },
  {
   "cell_type": "code",
   "execution_count": null,
   "id": "8fe8e5e9",
   "metadata": {},
   "outputs": [],
   "source": []
  },
  {
   "cell_type": "code",
   "execution_count": null,
   "id": "751d4f19",
   "metadata": {},
   "outputs": [],
   "source": []
  }
 ],
 "metadata": {
  "kernelspec": {
   "display_name": "Python 3",
   "language": "python",
   "name": "python3"
  },
  "language_info": {
   "codemirror_mode": {
    "name": "ipython",
    "version": 3
   },
   "file_extension": ".py",
   "mimetype": "text/x-python",
   "name": "python",
   "nbconvert_exporter": "python",
   "pygments_lexer": "ipython3",
   "version": "3.8.8"
  }
 },
 "nbformat": 4,
 "nbformat_minor": 5
}
